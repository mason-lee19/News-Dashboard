{
 "cells": [
  {
   "cell_type": "code",
   "execution_count": 1,
   "metadata": {},
   "outputs": [],
   "source": [
    "from newsapi import NewsApiClient\n",
    "import os\n",
    "from pathlib import Path\n",
    "from dotenv import load_dotenv\n",
    "import pandas as pd"
   ]
  },
  {
   "cell_type": "code",
   "execution_count": 2,
   "metadata": {},
   "outputs": [],
   "source": [
    "local_dir = os.path.dirname(os.path.abspath('__file__'))\n",
    "parent_dir = os.path.dirname(local_dir)\n",
    "api_env_filepath = os.path.join(parent_dir,'api.env')\n",
    "load_dotenv(Path(api_env_filepath))\n",
    "\n",
    "newsapi = NewsApiClient(api_key=os.getenv('NEWSAPI_API_KEY'))"
   ]
  },
  {
   "cell_type": "code",
   "execution_count": 3,
   "metadata": {},
   "outputs": [],
   "source": [
    "top_us_headlines = newsapi.get_top_headlines(\n",
    "    country='us',\n",
    "    category='business',\n",
    "    language='en',\n",
    "    page_size=100\n",
    ")\n",
    "\n",
    "top_titles = []\n",
    "for i in top_us_headlines['articles']:\n",
    "    top_titles.append(i['title'])"
   ]
  },
  {
   "cell_type": "code",
   "execution_count": 4,
   "metadata": {},
   "outputs": [
    {
     "data": {
      "text/plain": [
       "[\"GM's Cruise names former Amazon, Microsoft Xbox executive as new CEO - CNBC\",\n",
       " 'VW will invest $5 billion in Rivian as part of new EV joint venture - The Verge',\n",
       " 'Bitcoin price sees oversold bounce to $62K but will it hold? - Cointelegraph',\n",
       " \"What's Going On With Walmart And Target Corp Stock On Tuesday? - Yahoo Finance\",\n",
       " 'Ford F-150 and Tesla Cybertruck models recalled - The Washington Post',\n",
       " 'Tesla recalls thousands of Cybertrucks over windshield wiper, trunk bed trim issues - Fox Business',\n",
       " \"Here's how much profit McDonald’s makes on its new $5 meal - MarketWatch\",\n",
       " \"Delta's new JFK luxury lounge offers fine dining, massages and showers - New York Post \",\n",
       " \"A look at Perkins' rebranding efforts - Nation's Restaurant News\",\n",
       " 'Hooters store closings: List of 41 locations closed in 2024 - WTHR']"
      ]
     },
     "execution_count": 4,
     "metadata": {},
     "output_type": "execute_result"
    }
   ],
   "source": [
    "top_titles[0:10]"
   ]
  },
  {
   "cell_type": "code",
   "execution_count": 5,
   "metadata": {},
   "outputs": [],
   "source": [
    "df = pd.read_csv('../Data/sp500.csv')"
   ]
  },
  {
   "cell_type": "code",
   "execution_count": 152,
   "metadata": {},
   "outputs": [],
   "source": [
    "df_copy = df.copy()"
   ]
  },
  {
   "cell_type": "code",
   "execution_count": 153,
   "metadata": {},
   "outputs": [
    {
     "data": {
      "text/html": [
       "<div>\n",
       "<style scoped>\n",
       "    .dataframe tbody tr th:only-of-type {\n",
       "        vertical-align: middle;\n",
       "    }\n",
       "\n",
       "    .dataframe tbody tr th {\n",
       "        vertical-align: top;\n",
       "    }\n",
       "\n",
       "    .dataframe thead th {\n",
       "        text-align: right;\n",
       "    }\n",
       "</style>\n",
       "<table border=\"1\" class=\"dataframe\">\n",
       "  <thead>\n",
       "    <tr style=\"text-align: right;\">\n",
       "      <th></th>\n",
       "      <th>Symbol</th>\n",
       "      <th>Name</th>\n",
       "      <th>Sector</th>\n",
       "    </tr>\n",
       "  </thead>\n",
       "  <tbody>\n",
       "    <tr>\n",
       "      <th>0</th>\n",
       "      <td>MMM</td>\n",
       "      <td>3M</td>\n",
       "      <td>Industrials</td>\n",
       "    </tr>\n",
       "    <tr>\n",
       "      <th>1</th>\n",
       "      <td>AOS</td>\n",
       "      <td>A.O. Smith</td>\n",
       "      <td>Industrials</td>\n",
       "    </tr>\n",
       "    <tr>\n",
       "      <th>2</th>\n",
       "      <td>ABT</td>\n",
       "      <td>Abbott Labs</td>\n",
       "      <td>Health Care</td>\n",
       "    </tr>\n",
       "    <tr>\n",
       "      <th>3</th>\n",
       "      <td>ABT</td>\n",
       "      <td>Abbott</td>\n",
       "      <td>Health Care</td>\n",
       "    </tr>\n",
       "    <tr>\n",
       "      <th>4</th>\n",
       "      <td>ABBV</td>\n",
       "      <td>AbbVie</td>\n",
       "      <td>Health Care</td>\n",
       "    </tr>\n",
       "  </tbody>\n",
       "</table>\n",
       "</div>"
      ],
      "text/plain": [
       "  Symbol         Name       Sector\n",
       "0    MMM           3M  Industrials\n",
       "1    AOS   A.O. Smith  Industrials\n",
       "2    ABT  Abbott Labs  Health Care\n",
       "3    ABT     Abbott    Health Care\n",
       "4   ABBV       AbbVie  Health Care"
      ]
     },
     "execution_count": 153,
     "metadata": {},
     "output_type": "execute_result"
    }
   ],
   "source": [
    "df_copy.head()"
   ]
  },
  {
   "cell_type": "code",
   "execution_count": 154,
   "metadata": {},
   "outputs": [],
   "source": [
    "stock_alias_set = set()\n",
    "\n",
    "for index,row in df_copy.iterrows():\n",
    "    stock_alias_set.add(row['Name'].lower())"
   ]
  },
  {
   "cell_type": "code",
   "execution_count": 159,
   "metadata": {},
   "outputs": [
    {
     "name": "stdout",
     "output_type": "stream",
     "text": [
      "[('EPIC poll finds', 0.004390086440759893), ('Bidens push', 0.023458380875189744), ('EPIC poll', 0.026233073037508336), ('EVs despite Bidens', 0.04498862876540802), ('poll finds', 0.04940384002065631), ('EPIC', 0.08596317751626563), ('Americans', 0.1447773057422032), ('Bidens', 0.1447773057422032), ('push', 0.15831692877998726), ('AP-NORC', 0.15831692877998726), ('finds', 0.15831692877998726), ('shying', 0.29736558256021506), ('EVs', 0.29736558256021506), ('poll', 0.29736558256021506)]\n",
      "\n",
      "\n",
      "Overall Economy\n"
     ]
    }
   ],
   "source": [
    "text = 'Many Americans are still shying away from EVs despite Bidens push, an AP-NORC/EPIC poll finds'\n",
    "kw_extractor = KeywordExtractor()\n",
    "\n",
    "keywords = kw_extractor.extract_keywords(text)\n",
    "\n",
    "print(keywords)\n",
    "print('\\n')\n",
    "\n",
    "found_keyword = False\n",
    "\n",
    "for k in keywords:\n",
    "    cur_keyword = k[0].lower()\n",
    "    if cur_keyword in stock_alias_set:\n",
    "        found_keyword = True\n",
    "        print(cur_keyword)\n",
    "\n",
    "if not found_keyword:\n",
    "    print('Overall Economy')"
   ]
  },
  {
   "cell_type": "code",
   "execution_count": 24,
   "metadata": {},
   "outputs": [],
   "source": [
    "# pip install transformers\n",
    "# pip install fast_ml\n",
    "# pip install scipy\n",
    "# pip install matplotlib\n",
    "# pip install seaborn\n",
    "# pip install scikit-learn\n",
    "# pip install tensorflow\n",
    "# pip install torch\n",
    "# pip install datasets\n",
    "import numpy as np\n",
    "import pandas as pd\n",
    "from fast_ml.model_development import train_valid_test_split\n",
    "from transformers import Trainer, TrainingArguments, AutoConfig, AutoTokenizer, AutoModelForSequenceClassification\n",
    "import torch\n",
    "from torch import nn\n",
    "from torch.nn.functional import softmax\n",
    "from sklearn.metrics import classification_report\n",
    "from sklearn.preprocessing import LabelEncoder\n",
    "from sklearn.utils import resample\n",
    "import datasets\n",
    "import re\n",
    "import pickle"
   ]
  },
  {
   "cell_type": "code",
   "execution_count": 6,
   "metadata": {},
   "outputs": [
    {
     "name": "stdout",
     "output_type": "stream",
     "text": [
      "Device Available: cuda\n"
     ]
    }
   ],
   "source": [
    "DEVICE = torch.device(\"cuda\" if torch.cuda.is_available() else \"cpu\")\n",
    "print(f'Device Available: {DEVICE}')"
   ]
  },
  {
   "cell_type": "code",
   "execution_count": 33,
   "metadata": {},
   "outputs": [
    {
     "data": {
      "text/html": [
       "<div>\n",
       "<style scoped>\n",
       "    .dataframe tbody tr th:only-of-type {\n",
       "        vertical-align: middle;\n",
       "    }\n",
       "\n",
       "    .dataframe tbody tr th {\n",
       "        vertical-align: top;\n",
       "    }\n",
       "\n",
       "    .dataframe thead th {\n",
       "        text-align: right;\n",
       "    }\n",
       "</style>\n",
       "<table border=\"1\" class=\"dataframe\">\n",
       "  <thead>\n",
       "    <tr style=\"text-align: right;\">\n",
       "      <th></th>\n",
       "      <th>text</th>\n",
       "      <th>Sentiment</th>\n",
       "    </tr>\n",
       "  </thead>\n",
       "  <tbody>\n",
       "    <tr>\n",
       "      <th>0</th>\n",
       "      <td>Russia and Poland Feud Over Putin Remarks on W...</td>\n",
       "      <td>negative</td>\n",
       "    </tr>\n",
       "    <tr>\n",
       "      <th>1</th>\n",
       "      <td>Trump Moves to Lift Visa Restrictions on Polis...</td>\n",
       "      <td>neutral</td>\n",
       "    </tr>\n",
       "    <tr>\n",
       "      <th>2</th>\n",
       "      <td>Trump-Backed U.S.-British Trade Deal Faces Hur...</td>\n",
       "      <td>neutral</td>\n",
       "    </tr>\n",
       "    <tr>\n",
       "      <th>3</th>\n",
       "      <td>Trumpâs Arrival in London Brings Controversy...</td>\n",
       "      <td>negative</td>\n",
       "    </tr>\n",
       "    <tr>\n",
       "      <th>4</th>\n",
       "      <td>Trump Steers Clear of War Footing Toward Iran</td>\n",
       "      <td>neutral</td>\n",
       "    </tr>\n",
       "  </tbody>\n",
       "</table>\n",
       "</div>"
      ],
      "text/plain": [
       "                                                text Sentiment\n",
       "0  Russia and Poland Feud Over Putin Remarks on W...  negative\n",
       "1  Trump Moves to Lift Visa Restrictions on Polis...   neutral\n",
       "2  Trump-Backed U.S.-British Trade Deal Faces Hur...   neutral\n",
       "3  Trumpâs Arrival in London Brings Controversy...  negative\n",
       "4      Trump Steers Clear of War Footing Toward Iran   neutral"
      ]
     },
     "execution_count": 33,
     "metadata": {},
     "output_type": "execute_result"
    }
   ],
   "source": [
    "#sentiment_data = pd.read_csv('../Data/headline_sentiment_data.csv',encoding=\"ISO-8859-1\")\n",
    "sentiment_data = pd.read_csv('../Data/SEN_en_AMT_nooutlier.csv',encoding=\"ISO-8859-1\",index_col=0)\n",
    "sentiment_data.drop(labels=['entity'],axis=1,inplace=True)\n",
    "sentiment_data.rename(columns={'headline':'text',\n",
    "                               'majority_label':'Sentiment'},\n",
    "                               inplace=True)\n",
    "sentiment_data['Sentiment'] = sentiment_data['Sentiment'].str.lower()\n",
    "sentiment_data.head()"
   ]
  },
  {
   "cell_type": "code",
   "execution_count": 28,
   "metadata": {},
   "outputs": [],
   "source": [
    "def clean_headline(headline):\n",
    "    # Remove non-alphabetic characters\n",
    "    headline = re.sub(r'[^A-Za-z\\s]', '', headline)\n",
    "\n",
    "    # Convert to lowercase\n",
    "    headline = headline.lower()\n",
    "\n",
    "    # Remove extra whitespace\n",
    "    headline = re.sub(r'\\s+', ' ', headline).strip()\n",
    "\n",
    "    return headline"
   ]
  },
  {
   "cell_type": "code",
   "execution_count": 34,
   "metadata": {},
   "outputs": [
    {
     "data": {
      "text/html": [
       "<div>\n",
       "<style scoped>\n",
       "    .dataframe tbody tr th:only-of-type {\n",
       "        vertical-align: middle;\n",
       "    }\n",
       "\n",
       "    .dataframe tbody tr th {\n",
       "        vertical-align: top;\n",
       "    }\n",
       "\n",
       "    .dataframe thead th {\n",
       "        text-align: right;\n",
       "    }\n",
       "</style>\n",
       "<table border=\"1\" class=\"dataframe\">\n",
       "  <thead>\n",
       "    <tr style=\"text-align: right;\">\n",
       "      <th></th>\n",
       "      <th>text</th>\n",
       "      <th>Sentiment</th>\n",
       "    </tr>\n",
       "  </thead>\n",
       "  <tbody>\n",
       "    <tr>\n",
       "      <th>0</th>\n",
       "      <td>russia and poland feud over putin remarks on w...</td>\n",
       "      <td>negative</td>\n",
       "    </tr>\n",
       "    <tr>\n",
       "      <th>1</th>\n",
       "      <td>trump moves to lift visa restrictions on polis...</td>\n",
       "      <td>neutral</td>\n",
       "    </tr>\n",
       "    <tr>\n",
       "      <th>2</th>\n",
       "      <td>trumpbacked usbritish trade deal faces hurdles</td>\n",
       "      <td>neutral</td>\n",
       "    </tr>\n",
       "    <tr>\n",
       "      <th>3</th>\n",
       "      <td>trumps arrival in london brings controversy bu...</td>\n",
       "      <td>negative</td>\n",
       "    </tr>\n",
       "    <tr>\n",
       "      <th>4</th>\n",
       "      <td>trump steers clear of war footing toward iran</td>\n",
       "      <td>neutral</td>\n",
       "    </tr>\n",
       "  </tbody>\n",
       "</table>\n",
       "</div>"
      ],
      "text/plain": [
       "                                                text Sentiment\n",
       "0  russia and poland feud over putin remarks on w...  negative\n",
       "1  trump moves to lift visa restrictions on polis...   neutral\n",
       "2     trumpbacked usbritish trade deal faces hurdles   neutral\n",
       "3  trumps arrival in london brings controversy bu...  negative\n",
       "4      trump steers clear of war footing toward iran   neutral"
      ]
     },
     "execution_count": 34,
     "metadata": {},
     "output_type": "execute_result"
    }
   ],
   "source": [
    "sentiment_data['text'] = sentiment_data['text'].apply(clean_headline)\n",
    "sentiment_data.head()"
   ]
  },
  {
   "cell_type": "code",
   "execution_count": 35,
   "metadata": {},
   "outputs": [
    {
     "name": "stdout",
     "output_type": "stream",
     "text": [
      "509\n",
      "267\n",
      "568\n"
     ]
    }
   ],
   "source": [
    "print(sentiment_data['Sentiment'].value_counts().get('neutral',0))\n",
    "print(sentiment_data['Sentiment'].value_counts().get('positive',0))\n",
    "print(sentiment_data['Sentiment'].value_counts().get('negative',0))"
   ]
  },
  {
   "cell_type": "markdown",
   "metadata": {},
   "source": [
    "### Either sample down or sample up\n",
    "- Sampling up didn't seem to work as well as intented\n",
    "- The model metrics came out great but the how it scored the new data wasn't the best"
   ]
  },
  {
   "cell_type": "code",
   "execution_count": 40,
   "metadata": {},
   "outputs": [],
   "source": [
    "# Because of an unbalance dataset lets upsample the positive\n",
    "df_neutral = sentiment_data[sentiment_data['Sentiment'] == 'neutral']\n",
    "df_positive = sentiment_data[sentiment_data['Sentiment'] == 'positive']\n",
    "df_negative = sentiment_data[sentiment_data['Sentiment'] == 'negative' ]\n",
    "\n",
    "df_neutral_upsampled = resample(df_neutral,\n",
    "                                replace=True,\n",
    "                                n_samples=sentiment_data['Sentiment'].value_counts().get('negative',0),\n",
    "                                random_state=42)\n",
    "\n",
    "df_positive_upsampled = resample(df_positive,\n",
    "                                 replace=True,\n",
    "                                 n_samples=sentiment_data['Sentiment'].value_counts().get('negative',0),\n",
    "                                 random_state=42)\n",
    "\n",
    "df_balanced = pd.concat([df_neutral_upsampled, df_positive_upsampled, df_negative])"
   ]
  },
  {
   "cell_type": "code",
   "execution_count": 7,
   "metadata": {},
   "outputs": [],
   "source": [
    "# Because of an unbalance dataset lets upsample the negative and positive\n",
    "df_neutral = sentiment_data[sentiment_data['Sentiment'] == 'neutral']\n",
    "df_positive = sentiment_data[sentiment_data['Sentiment'] == 'positive']\n",
    "df_negative = sentiment_data[sentiment_data['Sentiment'] == 'negative' ]\n",
    "\n",
    "df_positive_upsampled = resample(df_positive,\n",
    "                                 replace=True,\n",
    "                                 n_samples=2800,\n",
    "                                 random_state=42)\n",
    "\n",
    "df_negative_upsampled = resample(df_negative,\n",
    "                                 replace=True,\n",
    "                                 n_samples=2800,\n",
    "                                 random_state=42)\n",
    "\n",
    "df_balanced = pd.concat([df_neutral, df_positive_upsampled, df_negative_upsampled])"
   ]
  },
  {
   "cell_type": "code",
   "execution_count": 41,
   "metadata": {},
   "outputs": [
    {
     "name": "stdout",
     "output_type": "stream",
     "text": [
      "568\n",
      "568\n",
      "568\n"
     ]
    }
   ],
   "source": [
    "print(df_balanced['Sentiment'].value_counts().get('neutral',0))\n",
    "print(df_balanced['Sentiment'].value_counts().get('positive',0))\n",
    "print(df_balanced['Sentiment'].value_counts().get('negative',0))"
   ]
  },
  {
   "cell_type": "code",
   "execution_count": 42,
   "metadata": {},
   "outputs": [],
   "source": [
    "sentiment_data = df_balanced.copy()"
   ]
  },
  {
   "cell_type": "code",
   "execution_count": 43,
   "metadata": {},
   "outputs": [
    {
     "data": {
      "text/html": [
       "<div>\n",
       "<style scoped>\n",
       "    .dataframe tbody tr th:only-of-type {\n",
       "        vertical-align: middle;\n",
       "    }\n",
       "\n",
       "    .dataframe tbody tr th {\n",
       "        vertical-align: top;\n",
       "    }\n",
       "\n",
       "    .dataframe thead th {\n",
       "        text-align: right;\n",
       "    }\n",
       "</style>\n",
       "<table border=\"1\" class=\"dataframe\">\n",
       "  <thead>\n",
       "    <tr style=\"text-align: right;\">\n",
       "      <th></th>\n",
       "      <th>text</th>\n",
       "      <th>Sentiment</th>\n",
       "    </tr>\n",
       "  </thead>\n",
       "  <tbody>\n",
       "    <tr>\n",
       "      <th>238</th>\n",
       "      <td>iowa democrats release partial caucus results ...</td>\n",
       "      <td>1</td>\n",
       "    </tr>\n",
       "    <tr>\n",
       "      <th>1084</th>\n",
       "      <td>mitt romney and susan collins sound reluctant ...</td>\n",
       "      <td>1</td>\n",
       "    </tr>\n",
       "    <tr>\n",
       "      <th>873</th>\n",
       "      <td>the finance trump claimed in the state of the ...</td>\n",
       "      <td>1</td>\n",
       "    </tr>\n",
       "    <tr>\n",
       "      <th>651</th>\n",
       "      <td>sanders and buttigieg in tight race for delegates</td>\n",
       "      <td>1</td>\n",
       "    </tr>\n",
       "    <tr>\n",
       "      <th>244</th>\n",
       "      <td>us judge denied trump adviser stones request f...</td>\n",
       "      <td>1</td>\n",
       "    </tr>\n",
       "  </tbody>\n",
       "</table>\n",
       "</div>"
      ],
      "text/plain": [
       "                                                   text  Sentiment\n",
       "238   iowa democrats release partial caucus results ...          1\n",
       "1084  mitt romney and susan collins sound reluctant ...          1\n",
       "873   the finance trump claimed in the state of the ...          1\n",
       "651   sanders and buttigieg in tight race for delegates          1\n",
       "244   us judge denied trump adviser stones request f...          1"
      ]
     },
     "execution_count": 43,
     "metadata": {},
     "output_type": "execute_result"
    }
   ],
   "source": [
    "encoding_map = {'negative':0,'neutral':1,'positive':2}\n",
    "sentiment_data['Sentiment'] = sentiment_data['Sentiment'].map(encoding_map)\n",
    "sentiment_data.head()"
   ]
  },
  {
   "cell_type": "code",
   "execution_count": 45,
   "metadata": {},
   "outputs": [],
   "source": [
    "(train_texts, train_labels, val_texts, val_labels, test_texts, test_labels) = train_valid_test_split(sentiment_data, target='Sentiment', train_size=0.8, valid_size=0.1, test_size=0.1)\n",
    "\n",
    "train_texts = train_texts['text'].to_list()\n",
    "train_labels = train_labels.to_list()\n",
    "val_texts = val_texts['text'].to_list()\n",
    "val_labels = val_labels.to_list()\n",
    "test_texts = test_texts['text'].to_list()\n",
    "test_labels = test_labels.to_list()"
   ]
  },
  {
   "cell_type": "code",
   "execution_count": 25,
   "metadata": {},
   "outputs": [],
   "source": [
    "class DataLoader(torch.utils.data.Dataset):\n",
    "    def __init__(self, sentences=None, labels=None):\n",
    "        self.sentences = sentences\n",
    "        self.labels = labels\n",
    "        self.tokenizer = AutoTokenizer.from_pretrained('distilbert/distilbert-base-uncased')\n",
    "\n",
    "        if bool(sentences):\n",
    "            self.encodings = self.tokenizer(self.sentences,truncation=True,padding=True)\n",
    "\n",
    "    def __getitem__(self,idx):\n",
    "        item = {key: torch.tensor(val[idx]) for key,val in self.encodings.items()}\n",
    "        \n",
    "        if self.labels == None:\n",
    "            item['labels'] = None\n",
    "        else:\n",
    "            item['labels'] = torch.tensor(self.labels[idx])\n",
    "        return item\n",
    "    \n",
    "    def __len__(self):\n",
    "        return len(self.sentences)\n",
    "\n",
    "    def encode(self,x):\n",
    "        return self.tokenizer(x, return_tensors='pt').to(DEVICE)"
   ]
  },
  {
   "cell_type": "code",
   "execution_count": 47,
   "metadata": {},
   "outputs": [
    {
     "name": "stdout",
     "output_type": "stream",
     "text": [
      "{'input_ids': tensor([  101,  2004,  8398, 16889,  2015,  4518,  3006,  8037,  2391,  2000,\n",
      "         8084,  3667,   102,     0,     0,     0,     0,     0,     0,     0,\n",
      "            0,     0,     0,     0,     0,     0,     0,     0,     0,     0,\n",
      "            0,     0,     0,     0]), 'attention_mask': tensor([1, 1, 1, 1, 1, 1, 1, 1, 1, 1, 1, 1, 1, 0, 0, 0, 0, 0, 0, 0, 0, 0, 0, 0,\n",
      "        0, 0, 0, 0, 0, 0, 0, 0, 0, 0]), 'labels': tensor(2)}\n"
     ]
    }
   ],
   "source": [
    "train_dataset = DataLoader(train_texts,train_labels)\n",
    "val_dataset = DataLoader(val_texts,val_labels)\n",
    "test_dataset = DataLoader(test_texts,test_labels)\n",
    "\n",
    "print(train_dataset.__getitem__(0))"
   ]
  },
  {
   "cell_type": "code",
   "execution_count": 48,
   "metadata": {},
   "outputs": [],
   "source": [
    "f1 = datasets.load_metric('f1')\n",
    "accuracy = datasets.load_metric('accuracy')\n",
    "precision = datasets.load_metric('precision')\n",
    "recall = datasets.load_metric('recall')\n",
    "\n",
    "def compute_metrics(eval_pred):\n",
    "    metrics_dict = {}\n",
    "    predictions, labels = eval_pred\n",
    "    predictions = np.argmax(predictions,axis=1)\n",
    "    \n",
    "    metrics_dict.update(f1.compute(predictions = predictions, references = labels, average = 'macro'))\n",
    "    metrics_dict.update(accuracy.compute(predictions = predictions, references = labels))\n",
    "    metrics_dict.update(precision.compute(predictions = predictions, references = labels, average = 'macro'))\n",
    "    metrics_dict.update(recall.compute(predictions = predictions, references = labels, average = 'macro'))\n",
    "    return metrics_dict"
   ]
  },
  {
   "cell_type": "code",
   "execution_count": 49,
   "metadata": {},
   "outputs": [],
   "source": [
    "id2label_mapping = {0:'negative',1:'neutral',2:'positive'}\n",
    "label2id_mapping = {'negative':0,'neutral':1,'positive':2}\n",
    "\n",
    "config = AutoConfig.from_pretrained('distilbert/distilbert-base-uncased',\n",
    "                                    num_labels=3,\n",
    "                                    id2label=id2label_mapping,\n",
    "                                    label2id=label2id_mapping)\n",
    "\n",
    "model = AutoModelForSequenceClassification.from_config(config)"
   ]
  },
  {
   "cell_type": "code",
   "execution_count": 51,
   "metadata": {},
   "outputs": [],
   "source": [
    "training_args = TrainingArguments(\n",
    "    output_dir='../Data',\n",
    "    num_train_epochs=50,\n",
    "    per_device_train_batch_size=64,\n",
    "    per_device_eval_batch_size=64,\n",
    "    warmup_steps=500,\n",
    "    weight_decay=0.01,\n",
    "    report_to='none',\n",
    "    evaluation_strategy='steps',\n",
    "    logging_dir='../Data',\n",
    "    logging_steps=500)"
   ]
  },
  {
   "cell_type": "code",
   "execution_count": 52,
   "metadata": {},
   "outputs": [],
   "source": [
    "trainer = Trainer(\n",
    "    model=model,\n",
    "    args=training_args,\n",
    "    train_dataset=train_dataset,\n",
    "    eval_dataset=val_dataset,\n",
    "    compute_metrics=compute_metrics\n",
    ")"
   ]
  },
  {
   "cell_type": "code",
   "execution_count": 53,
   "metadata": {},
   "outputs": [
    {
     "name": "stderr",
     "output_type": "stream",
     "text": [
      " 45%|████▌     | 500/1100 [00:54<01:06,  9.05it/s]"
     ]
    },
    {
     "name": "stdout",
     "output_type": "stream",
     "text": [
      "{'loss': 0.5227, 'grad_norm': 3.5233986377716064, 'learning_rate': 5e-05, 'epoch': 22.73}\n"
     ]
    },
    {
     "name": "stderr",
     "output_type": "stream",
     "text": [
      "                                                  \n",
      " 45%|████▌     | 500/1100 [00:55<01:06,  9.05it/s]"
     ]
    },
    {
     "name": "stdout",
     "output_type": "stream",
     "text": [
      "{'eval_loss': 1.5102787017822266, 'eval_f1': 0.6641928837650762, 'eval_accuracy': 0.6529411764705882, 'eval_precision': 0.6657148221158359, 'eval_recall': 0.6716273849607183, 'eval_runtime': 0.1824, 'eval_samples_per_second': 932.228, 'eval_steps_per_second': 16.451, 'epoch': 22.73}\n"
     ]
    },
    {
     "name": "stderr",
     "output_type": "stream",
     "text": [
      " 91%|█████████ | 1000/1100 [01:50<00:11,  9.03it/s]"
     ]
    },
    {
     "name": "stdout",
     "output_type": "stream",
     "text": [
      "{'loss': 0.0766, 'grad_norm': 0.13429714739322662, 'learning_rate': 8.333333333333334e-06, 'epoch': 45.45}\n"
     ]
    },
    {
     "name": "stderr",
     "output_type": "stream",
     "text": [
      "                                                   \n",
      " 91%|█████████ | 1000/1100 [01:50<00:11,  9.03it/s]"
     ]
    },
    {
     "name": "stdout",
     "output_type": "stream",
     "text": [
      "{'eval_loss': 1.701771855354309, 'eval_f1': 0.7011595818185756, 'eval_accuracy': 0.6941176470588235, 'eval_precision': 0.7010613207547168, 'eval_recall': 0.709719416386083, 'eval_runtime': 0.1227, 'eval_samples_per_second': 1385.553, 'eval_steps_per_second': 24.451, 'epoch': 45.45}\n"
     ]
    },
    {
     "name": "stderr",
     "output_type": "stream",
     "text": [
      "100%|██████████| 1100/1100 [02:02<00:00,  8.98it/s]"
     ]
    },
    {
     "name": "stdout",
     "output_type": "stream",
     "text": [
      "{'train_runtime': 122.5452, 'train_samples_per_second': 556.121, 'train_steps_per_second': 8.976, 'train_loss': 0.27634824536063457, 'epoch': 50.0}\n"
     ]
    },
    {
     "name": "stderr",
     "output_type": "stream",
     "text": [
      "\n"
     ]
    },
    {
     "data": {
      "text/plain": [
       "TrainOutput(global_step=1100, training_loss=0.27634824536063457, metrics={'train_runtime': 122.5452, 'train_samples_per_second': 556.121, 'train_steps_per_second': 8.976, 'total_flos': 599503287634200.0, 'train_loss': 0.27634824536063457, 'epoch': 50.0})"
      ]
     },
     "execution_count": 53,
     "metadata": {},
     "output_type": "execute_result"
    }
   ],
   "source": [
    "trainer.train()"
   ]
  },
  {
   "cell_type": "code",
   "execution_count": 54,
   "metadata": {},
   "outputs": [
    {
     "name": "stderr",
     "output_type": "stream",
     "text": [
      "100%|██████████| 3/3 [00:00<00:00, 33.25it/s]\n"
     ]
    }
   ],
   "source": [
    "eval_results = trainer.predict(test_dataset)"
   ]
  },
  {
   "cell_type": "code",
   "execution_count": 55,
   "metadata": {},
   "outputs": [
    {
     "name": "stdout",
     "output_type": "stream",
     "text": [
      "{'test_loss': 1.2834534645080566, 'test_f1': 0.7801165979383802, 'test_accuracy': 0.7894736842105263, 'test_precision': 0.7801904027467937, 'test_recall': 0.7808167141500474, 'test_runtime': 0.1252, 'test_samples_per_second': 1365.814, 'test_steps_per_second': 23.962}\n"
     ]
    }
   ],
   "source": [
    "print(eval_results.metrics)"
   ]
  },
  {
   "cell_type": "code",
   "execution_count": 56,
   "metadata": {},
   "outputs": [],
   "source": [
    "trainer.save_model('../Models/sentiment_model')"
   ]
  },
  {
   "cell_type": "code",
   "execution_count": 57,
   "metadata": {},
   "outputs": [],
   "source": [
    "model_path = '../Models/sentiment_model'"
   ]
  },
  {
   "cell_type": "code",
   "execution_count": 58,
   "metadata": {},
   "outputs": [],
   "source": [
    "class SentimentModel():\n",
    "    def __init__(self, model_path):\n",
    "        self.model = AutoModelForSequenceClassification.from_pretrained(model_path).to(DEVICE)\n",
    "\n",
    "        args = TrainingArguments(output_dir='../Data/results', per_device_eval_batch_size=64)\n",
    "        self.batch_model = Trainer(model = self.model, args=args)\n",
    "        self.single_dataloader = DataLoader()\n",
    "\n",
    "    def batch_predict_proba(self,x):\n",
    "        predictions = self.batch_model.predict(DataLoader(x))\n",
    "        logits = torch.from_numpy(predictions.predictions)\n",
    "\n",
    "        if DEVICE == 'cpu':\n",
    "            proba = torch.nn.functional.softmax(logits,dim=1).detach().numpy()\n",
    "        else:\n",
    "            proba = torch.nn.functional.softmax(logits,dim=1).to('cpu').detach().numpy()\n",
    "\n",
    "        return proba\n",
    "\n",
    "    def predict_proba(self,x):\n",
    "        x = self.single_dataloader.encode(x).to(DEVICE)\n",
    "        predictions = self.model(**x)\n",
    "        logits = predictions.logits\n",
    "\n",
    "        if DEVICE == 'cpu':\n",
    "            proba = torch.nn.functional.softmax(logits,dim=1).detach().numpy()\n",
    "        else:\n",
    "            proba = torch.nn.functional.softmax(logits,dim=1).to('cpu').detach().numpy()\n",
    "\n",
    "        return proba\n",
    "\n",
    "    def save_model(self, file_path):\n",
    "        with open(file_path, 'wb') as file:\n",
    "            pickle.dump(self, file)\n",
    "\n",
    "    @staticmethod\n",
    "    def load_model(file_path):\n",
    "        with open(file_path, 'rb') as file:\n",
    "            return pickle.load(file)"
   ]
  },
  {
   "cell_type": "code",
   "execution_count": 59,
   "metadata": {},
   "outputs": [
    {
     "data": {
      "text/plain": [
       "[\"GM's Cruise names former Amazon, Microsoft Xbox executive as new CEO - CNBC\",\n",
       " 'VW will invest $5 billion in Rivian as part of new EV joint venture - The Verge',\n",
       " 'Bitcoin price sees oversold bounce to $62K but will it hold? - Cointelegraph',\n",
       " \"What's Going On With Walmart And Target Corp Stock On Tuesday? - Yahoo Finance\",\n",
       " 'Ford F-150 and Tesla Cybertruck models recalled - The Washington Post']"
      ]
     },
     "execution_count": 59,
     "metadata": {},
     "output_type": "execute_result"
    }
   ],
   "source": [
    "top_titles[0:5]"
   ]
  },
  {
   "cell_type": "code",
   "execution_count": 60,
   "metadata": {},
   "outputs": [
    {
     "data": {
      "text/plain": [
       "45"
      ]
     },
     "execution_count": 60,
     "metadata": {},
     "output_type": "execute_result"
    }
   ],
   "source": [
    "new_headlines = pd.DataFrame(top_titles, columns=['headlines'])\n",
    "new_headlines.head()\n",
    "len(new_headlines)"
   ]
  },
  {
   "cell_type": "code",
   "execution_count": 61,
   "metadata": {},
   "outputs": [],
   "source": [
    "batch_sentences = new_headlines.sample(n=len(new_headlines),random_state=1)['headlines'].to_list()\n",
    "single_sentence = new_headlines.sample(n=1,random_state=1)['headlines'].to_list()[0]"
   ]
  },
  {
   "cell_type": "code",
   "execution_count": 62,
   "metadata": {},
   "outputs": [],
   "source": [
    "sentiment_model = SentimentModel('../Models/sentiment_model')"
   ]
  },
  {
   "cell_type": "code",
   "execution_count": 63,
   "metadata": {},
   "outputs": [
    {
     "data": {
      "text/plain": [
       "'whats going on with walmart and target corp stock on tuesday yahoo finance'"
      ]
     },
     "execution_count": 63,
     "metadata": {},
     "output_type": "execute_result"
    }
   ],
   "source": [
    "single_sentence = clean_headline(single_sentence)\n",
    "single_sentence"
   ]
  },
  {
   "cell_type": "code",
   "execution_count": 64,
   "metadata": {},
   "outputs": [
    {
     "name": "stdout",
     "output_type": "stream",
     "text": [
      "neutral\n"
     ]
    }
   ],
   "source": [
    "single_sentence_probas = sentiment_model.predict_proba(single_sentence)\n",
    "id2label = sentiment_model.model.config.id2label\n",
    "predicted_class_label = id2label[np.argmax(single_sentence_probas)]\n",
    "\n",
    "print(predicted_class_label)"
   ]
  },
  {
   "cell_type": "code",
   "execution_count": 65,
   "metadata": {},
   "outputs": [
    {
     "name": "stderr",
     "output_type": "stream",
     "text": [
      "100%|██████████| 1/1 [00:00<00:00, 663.76it/s]\n"
     ]
    }
   ],
   "source": [
    "batch_sentence_probas = sentiment_model.batch_predict_proba(batch_sentences)\n",
    "predicted_class_labels = [id2label[i] for i in np.argmax(batch_sentence_probas, axis = -1)]"
   ]
  },
  {
   "cell_type": "code",
   "execution_count": 66,
   "metadata": {},
   "outputs": [
    {
     "name": "stdout",
     "output_type": "stream",
     "text": [
      "sentiment: neutral - What's Going On With Walmart And Target Corp Stock On Tuesday? - Yahoo Finance\n",
      "sentiment: negative - Bitcoin price sees oversold bounce to $62K but will it hold? - Cointelegraph\n",
      "sentiment: negative - China's premier slams trade tensions as EV exports are hit by tariffs - The Associated Press\n",
      "sentiment: negative - Elon Musk welcomes third child with Neuralink executive - Yahoo! Voices\n",
      "sentiment: negative - NJ Transit, Amtrak experience delays at Penn Station New York due to disabled train - WABC-TV\n",
      "sentiment: neutral - Nvidia Is No Longer the Most Valuable Company in the World. Here's What Investors Need to Know. - The Motley Fool\n",
      "sentiment: negative - UAB Health System Authority to acquire Ascension St. Vincent's - University of Alabama at Birmingham\n",
      "sentiment: negative - Dow closes at a one-month high; Nvidia drops - Yahoo Finance\n",
      "sentiment: negative - Treasury Secretary Janet Yellen announces $100M affordable housing fund - Star Tribune\n",
      "sentiment: neutral - Chipotle's 50-for-1 Stock Split Is Coming. Here's What Investors Need to Know - The Motley Fool\n",
      "sentiment: neutral - Who's who in the Arnault family? - Spear's - Spear's WMS\n",
      "sentiment: negative - Micron Technology (MU) Q2 Earnings: What To Expect - Yahoo Finance\n",
      "sentiment: neutral - US screens record-setting air passengers in one day — here's what to expect 4th of July week - New York Post \n",
      "sentiment: negative - Consumer confidence, Nvidia rebounds, space regulation: Catalysts - Yahoo Finance\n",
      "sentiment: positive - Nvidia Is Trading for Less Than $150 After Its Stock Split: Time to Buy? - The Motley Fool\n",
      "sentiment: positive - Nasdaq to lead markets higher as Nvidia shares rally - MarketWatch\n",
      "sentiment: negative - Blue Bell holding tournament to bring back discontinued ice cream - WFAA.com\n",
      "sentiment: positive - Apple Confirms iPhone Upgrade With 2 Key New Features Is Here In Days - Forbes\n",
      "sentiment: neutral - Ford F-150 and Tesla Cybertruck models recalled - The Washington Post\n",
      "sentiment: positive - Shein's potential IPO to be a 'badge of shame' for LSE, Amnesty International says - Reuters\n",
      "sentiment: neutral - Fed's Bowman sees no interest rate cuts this year - Fox Business\n",
      "sentiment: negative - World's best airlines in 2024 ranked - Fox Business\n",
      "sentiment: negative - Airbus provides 2024 guidance update - Airbus\n",
      "sentiment: neutral - [Removed]\n",
      "sentiment: neutral - US Home-Price Growth Cools as Buyers Contend With High Rates - Bloomberg\n",
      "sentiment: negative - Teva launches generic version of Novo Nordisk's diabetes drug Victoza - Reuters\n",
      "sentiment: negative - CDK Global sued for exposing personal data after cyberattack - Quartz\n",
      "sentiment: negative - Carnival Corp raises annual profit forecast again on steady cruise demand - Yahoo Finance\n",
      "sentiment: neutral - Amazon Prime Day 2024 taking place July 16 to July 17 - WAPT Jackson\n",
      "sentiment: neutral - Here's how much profit McDonald’s makes on its new $5 meal - MarketWatch\n",
      "sentiment: negative - ByteDance Doubles Down On TikTok Shop, Despite Threat Of A U.S. Ban - Forbes\n",
      "sentiment: negative - U.S. auto sales are expected to slow during the second half of 2024 - CNBC\n",
      "sentiment: negative - Delta's new JFK luxury lounge offers fine dining, massages and showers - New York Post \n",
      "sentiment: neutral - Apple App Store Stifles Competition, EU Regulators Say - Forbes\n",
      "sentiment: negative - VW will invest $5 billion in Rivian as part of new EV joint venture - The Verge\n",
      "sentiment: negative - Judge rejects $30B Visa, Mastercard ‘swipe fee’ settlement - The Hill\n",
      "sentiment: negative - GM's Cruise names former Amazon, Microsoft Xbox executive as new CEO - CNBC\n",
      "sentiment: neutral - Waymo's autonomous ride-hailing service now available to all in San Francisco - Reuters\n",
      "sentiment: negative - Tesla recalls thousands of Cybertrucks over windshield wiper, trunk bed trim issues - Fox Business\n",
      "sentiment: negative - New York Times names Berkeley restaurant one of the best pizza places in US - SFGATE\n",
      "sentiment: negative - Hooters store closings: List of 41 locations closed in 2024 - WTHR\n",
      "sentiment: negative - A look at Perkins' rebranding efforts - Nation's Restaurant News\n",
      "sentiment: negative - Ice cream brands sold at Walmart, Giant Eagle recalled - WJW FOX 8 News Cleveland\n",
      "sentiment: neutral - Gen Z is loneliest generation, as young people yearn for more meaningful friendships, experts say - KABC-TV\n",
      "sentiment: negative - Grail prepares for public debut, and challenges of going independent, after spinoff from Illumina - Endpoints News\n"
     ]
    }
   ],
   "source": [
    "for i,j in zip(batch_sentences,predicted_class_labels):\n",
    "    print(f'sentiment: {j} - {i}')"
   ]
  },
  {
   "cell_type": "code",
   "execution_count": null,
   "metadata": {},
   "outputs": [],
   "source": []
  }
 ],
 "metadata": {
  "kernelspec": {
   "display_name": "py312Venv",
   "language": "python",
   "name": "python3"
  },
  "language_info": {
   "codemirror_mode": {
    "name": "ipython",
    "version": 3
   },
   "file_extension": ".py",
   "mimetype": "text/x-python",
   "name": "python",
   "nbconvert_exporter": "python",
   "pygments_lexer": "ipython3",
   "version": "3.12.3"
  },
  "orig_nbformat": 4
 },
 "nbformat": 4,
 "nbformat_minor": 2
}
